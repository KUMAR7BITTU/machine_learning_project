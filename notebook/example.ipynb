{
 "cells": [
  {
   "cell_type": "code",
   "execution_count": 7,
   "metadata": {},
   "outputs": [],
   "source": [
    "from collections import namedtuple"
   ]
  },
  {
   "cell_type": "code",
   "execution_count": 8,
   "metadata": {},
   "outputs": [
    {
     "data": {
      "text/plain": [
       "' What is DataIngestionConfig in general ? The information of source data from where we have to collect the data \\nor\\nall the configuration required to access the data , that configuration we will specify in DataIngestionConfig . '"
      ]
     },
     "execution_count": 8,
     "metadata": {},
     "output_type": "execute_result"
    }
   ],
   "source": [
    "# Let's define DataIngestionConfig\n",
    "\"\"\" What is DataIngestionConfig in general ? The information of source data from where we have to collect the data \n",
    "or\n",
    "all the configuration required to access the data , that configuration we will specify in DataIngestionConfig . \"\"\""
   ]
  },
  {
   "cell_type": "code",
   "execution_count": 9,
   "metadata": {},
   "outputs": [
    {
     "data": {
      "text/plain": [
       "(33, 58, 489)"
      ]
     },
     "execution_count": 9,
     "metadata": {},
     "output_type": "execute_result"
    }
   ],
   "source": [
    "# Tuple \n",
    "(33,58,489)"
   ]
  },
  {
   "cell_type": "code",
   "execution_count": 10,
   "metadata": {},
   "outputs": [
    {
     "data": {
      "text/plain": [
       "' If we provide name to each and every element of tuple then it is called namedtuple .\\nIn namedtuple, every element in the tuple will be some name . Tuple is immutable .'"
      ]
     },
     "execution_count": 10,
     "metadata": {},
     "output_type": "execute_result"
    }
   ],
   "source": [
    "\"\"\" If we provide name to each and every element of tuple then it is called namedtuple .\n",
    "In namedtuple, every element in the tuple will be some name . Tuple is immutable .\"\"\""
   ]
  },
  {
   "cell_type": "code",
   "execution_count": 11,
   "metadata": {},
   "outputs": [
    {
     "data": {
      "text/plain": [
       "' We all know that tuple is use to store information and we are going to use namedtuple where we will give name for each value in the tuple .'"
      ]
     },
     "execution_count": 11,
     "metadata": {},
     "output_type": "execute_result"
    }
   ],
   "source": [
    "# Now we will try to give name to every element in the tupple .\n",
    "# We will name a tuple as DataIngestionConfig .\n",
    "\"\"\" We all know that tuple is use to store information and we are going to use namedtuple where we will give name for each value in the tuple .\"\"\"\n"
   ]
  },
  {
   "attachments": {},
   "cell_type": "markdown",
   "metadata": {},
   "source": [
    " \n",
    " The configurations that we need to specify in dataingestion component are mentioned below :-\n",
    " \n",
    "1. Download url\n",
    "2. Download folder (compressed file)\n",
    "3. Extract folder (Extracted file)\n",
    "4. Train dataset folder \n",
    "5. Test dataset folder \n",
    "\n"
   ]
  },
  {
   "cell_type": "code",
   "execution_count": 12,
   "metadata": {},
   "outputs": [],
   "source": [
    "# namedtuple function will take first parameter as name and we have to give same name . The second parameter should be list which can contain any number of element .\n",
    "DataIngestionConfig = namedtuple(\"DataIngestionConfig\",[\"dataset_download_url\",\"tgz_download_dir\",\"raw_data_dir\",\"ingested_train_dir\",\"ingested_test_dir\"])"
   ]
  },
  {
   "cell_type": "code",
   "execution_count": 13,
   "metadata": {},
   "outputs": [],
   "source": [
    "# first element in tuple will be url for dataset . Next whenever we will download any file or folder , it will be get downloaded in download folder and the file extension is tgz . This will be our second element . tgz is a compress file .  The third element contain the information where we will extract zip file(zip file which was downloaded in download folder ). The third element will be train dataset folder and fourth element will be test dataset folder .\n",
    "\n",
    "\n",
    "# The first element will store location of url where we will download our file / download and second element will store the location where our file / folder will be downloaded .The file which we be downloaded in download folder will raw file or compress file ."
   ]
  },
  {
   "cell_type": "code",
   "execution_count": 14,
   "metadata": {},
   "outputs": [],
   "source": [
    "# DataIngestionConfig is a entity here .\n",
    "data_ingestion_config = DataIngestionConfig(dataset_download_url=\"adsfs\",tgz_download_dir=\"sfsdgg\",raw_data_dir=\"ethssd\",ingested_train_dir=\"nsierg\",ingested_test_dir=\"soerd\")"
   ]
  },
  {
   "cell_type": "code",
   "execution_count": 15,
   "metadata": {},
   "outputs": [
    {
     "data": {
      "text/plain": [
       "DataIngestionConfig(dataset_download_url='adsfs', tgz_download_dir='sfsdgg', raw_data_dir='ethssd', ingested_train_dir='nsierg', ingested_test_dir='soerd')"
      ]
     },
     "execution_count": 15,
     "metadata": {},
     "output_type": "execute_result"
    }
   ],
   "source": [
    "# So the information that  will be  contain in data_ingestion_config is mentioned below\n",
    "data_ingestion_config"
   ]
  },
  {
   "cell_type": "code",
   "execution_count": 21,
   "metadata": {},
   "outputs": [],
   "source": [
    "# We have not used dictionary here because dictionary is mutable . So, the configuration information can be changed . But tuple is immutable . When we are passing information and we don't it to change then we use namedtuple otherwise we  dictionary ."
   ]
  },
  {
   "cell_type": "code",
   "execution_count": 20,
   "metadata": {},
   "outputs": [
    {
     "data": {
      "text/plain": [
       "('gsdgd', 'ddsgdsg', 'xkdood', 'wotubu', 'afaoogs')"
      ]
     },
     "execution_count": 20,
     "metadata": {},
     "output_type": "execute_result"
    }
   ],
   "source": [
    "(\"gsdgd\",\"ddsgdsg\",\"xkdood\",\"wotubu\",\"afaoogs\")\n",
    "# If we use normal tuple to store configuration information then we can't get proper understanding of which element is for which purpose . So, that'sway we have used namedtuple . "
   ]
  },
  {
   "cell_type": "code",
   "execution_count": null,
   "metadata": {},
   "outputs": [],
   "source": [
    "\"\""
   ]
  }
 ],
 "metadata": {
  "kernelspec": {
   "display_name": "Python 3 (ipykernel)",
   "language": "python",
   "name": "python3"
  },
  "language_info": {
   "codemirror_mode": {
    "name": "ipython",
    "version": 3
   },
   "file_extension": ".py",
   "mimetype": "text/x-python",
   "name": "python",
   "nbconvert_exporter": "python",
   "pygments_lexer": "ipython3",
   "version": "3.7.16"
  },
  "orig_nbformat": 4
 },
 "nbformat": 4,
 "nbformat_minor": 2
}
